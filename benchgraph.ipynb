{
 "cells": [
  {
   "cell_type": "code",
   "execution_count": 34,
   "metadata": {},
   "outputs": [
    {
     "name": "stderr",
     "output_type": "stream",
     "text": [
      "bash: riga 1: 24416 Errore di segmentazione (core dump creato) ./Binarysearchtree 100 $((1 + $RANDOM % 100)) >> results.txt\n",
      "bash: riga 1: 24418 Errore di segmentazione (core dump creato) ./Binarysearchtree 100 $((1 + $RANDOM % 100)) >> results.txt\n",
      "bash: riga 1: 24420 Errore di segmentazione (core dump creato) ./Binarysearchtree 100 $((1 + $RANDOM % 100)) >> results.txt\n",
      "bash: riga 1: 24422 Errore di segmentazione (core dump creato) ./Binarysearchtree 100 $((1 + $RANDOM % 100)) >> results.txt\n",
      "bash: riga 1: 24424 Errore di segmentazione (core dump creato) ./Binarysearchtree 100 $((1 + $RANDOM % 100)) >> results.txt\n",
      "bash: riga 1: 24426 Errore di segmentazione (core dump creato) ./Binarysearchtree 100 $((1 + $RANDOM % 100)) >> results.txt\n",
      "bash: riga 1: 24428 Errore di segmentazione (core dump creato) ./Binarysearchtree 100 $((1 + $RANDOM % 100)) >> results.txt\n",
      "bash: riga 1: 24430 Errore di segmentazione (core dump creato) ./Binarysearchtree 100 $((1 + $RANDOM % 100)) >> results.txt\n",
      "bash: riga 1: 24432 Errore di segmentazione (core dump creato) ./Binarysearchtree 100 $((1 + $RANDOM % 100)) >> results.txt\n",
      "bash: riga 1: 24434 Errore di segmentazione (core dump creato) ./Binarysearchtree 100 $((1 + $RANDOM % 100)) >> results.txt\n",
      "bash: riga 1: 24436 Errore di segmentazione (core dump creato) ./Binarysearchtree 100 $((1 + $RANDOM % 100)) >> results.txt\n",
      "bash: riga 1: 24438 Errore di segmentazione (core dump creato) ./Binarysearchtree 100 $((1 + $RANDOM % 100)) >> results.txt\n",
      "bash: riga 1: 24440 Errore di segmentazione (core dump creato) ./Binarysearchtree 100 $((1 + $RANDOM % 100)) >> results.txt\n",
      "bash: riga 1: 24442 Errore di segmentazione (core dump creato) ./Binarysearchtree 100 $((1 + $RANDOM % 100)) >> results.txt\n",
      "bash: riga 1: 24444 Errore di segmentazione (core dump creato) ./Binarysearchtree 100 $((1 + $RANDOM % 100)) >> results.txt\n",
      "bash: riga 1: 24446 Errore di segmentazione (core dump creato) ./Binarysearchtree 100 $((1 + $RANDOM % 100)) >> results.txt\n",
      "bash: riga 1: 24448 Errore di segmentazione (core dump creato) ./Binarysearchtree 100 $((1 + $RANDOM % 100)) >> results.txt\n",
      "bash: riga 1: 24450 Errore di segmentazione (core dump creato) ./Binarysearchtree 100 $((1 + $RANDOM % 100)) >> results.txt\n",
      "bash: riga 1: 24452 Errore di segmentazione (core dump creato) ./Binarysearchtree 100 $((1 + $RANDOM % 100)) >> results.txt\n",
      "bash: riga 1: 24454 Errore di segmentazione (core dump creato) ./Binarysearchtree 100 $((1 + $RANDOM % 100)) >> results.txt\n",
      "bash: riga 1: 24456 Errore di segmentazione (core dump creato) ./Binarysearchtree 100 $((1 + $RANDOM % 100)) >> results.txt\n",
      "bash: riga 1: 24458 Errore di segmentazione (core dump creato) ./Binarysearchtree 100 $((1 + $RANDOM % 100)) >> results.txt\n",
      "bash: riga 1: 24460 Errore di segmentazione (core dump creato) ./Binarysearchtree 100 $((1 + $RANDOM % 100)) >> results.txt\n",
      "bash: riga 1: 24462 Errore di segmentazione (core dump creato) ./Binarysearchtree 100 $((1 + $RANDOM % 100)) >> results.txt\n",
      "bash: riga 1: 24464 Errore di segmentazione (core dump creato) ./Binarysearchtree 100 $((1 + $RANDOM % 100)) >> results.txt\n",
      "bash: riga 1: 24466 Errore di segmentazione (core dump creato) ./Binarysearchtree 100 $((1 + $RANDOM % 100)) >> results.txt\n",
      "bash: riga 1: 24468 Errore di segmentazione (core dump creato) ./Binarysearchtree 100 $((1 + $RANDOM % 100)) >> results.txt\n",
      "bash: riga 1: 24470 Errore di segmentazione (core dump creato) ./Binarysearchtree 100 $((1 + $RANDOM % 100)) >> results.txt\n",
      "bash: riga 1: 24472 Errore di segmentazione (core dump creato) ./Binarysearchtree 100 $((1 + $RANDOM % 100)) >> results.txt\n",
      "bash: riga 1: 24474 Errore di segmentazione (core dump creato) ./Binarysearchtree 100 $((1 + $RANDOM % 100)) >> results.txt\n",
      "bash: riga 1: 24476 Errore di segmentazione (core dump creato) ./Binarysearchtree 100 $((1 + $RANDOM % 100)) >> results.txt\n",
      "bash: riga 1: 24478 Errore di segmentazione (core dump creato) ./Binarysearchtree 100 $((1 + $RANDOM % 100)) >> results.txt\n",
      "bash: riga 1: 24480 Errore di segmentazione (core dump creato) ./Binarysearchtree 100 $((1 + $RANDOM % 100)) >> results.txt\n",
      "bash: riga 1: 24482 Errore di segmentazione (core dump creato) ./Binarysearchtree 100 $((1 + $RANDOM % 100)) >> results.txt\n",
      "bash: riga 1: 24484 Errore di segmentazione (core dump creato) ./Binarysearchtree 100 $((1 + $RANDOM % 100)) >> results.txt\n",
      "bash: riga 1: 24486 Errore di segmentazione (core dump creato) ./Binarysearchtree 100 $((1 + $RANDOM % 100)) >> results.txt\n",
      "bash: riga 1: 24488 Errore di segmentazione (core dump creato) ./Binarysearchtree 100 $((1 + $RANDOM % 100)) >> results.txt\n",
      "bash: riga 1: 24490 Errore di segmentazione (core dump creato) ./Binarysearchtree 100 $((1 + $RANDOM % 100)) >> results.txt\n",
      "bash: riga 1: 24492 Errore di segmentazione (core dump creato) ./Binarysearchtree 100 $((1 + $RANDOM % 100)) >> results.txt\n",
      "bash: riga 1: 24494 Errore di segmentazione (core dump creato) ./Binarysearchtree 100 $((1 + $RANDOM % 100)) >> results.txt\n",
      "bash: riga 1: 24496 Errore di segmentazione (core dump creato) ./Binarysearchtree 100 $((1 + $RANDOM % 100)) >> results.txt\n",
      "bash: riga 1: 24498 Errore di segmentazione (core dump creato) ./Binarysearchtree 100 $((1 + $RANDOM % 100)) >> results.txt\n",
      "bash: riga 1: 24500 Errore di segmentazione (core dump creato) ./Binarysearchtree 100 $((1 + $RANDOM % 100)) >> results.txt\n",
      "bash: riga 1: 24502 Errore di segmentazione (core dump creato) ./Binarysearchtree 100 $((1 + $RANDOM % 100)) >> results.txt\n",
      "bash: riga 1: 24504 Errore di segmentazione (core dump creato) ./Binarysearchtree 100 $((1 + $RANDOM % 100)) >> results.txt\n",
      "bash: riga 1: 24506 Errore di segmentazione (core dump creato) ./Binarysearchtree 100 $((1 + $RANDOM % 100)) >> results.txt\n",
      "bash: riga 1: 24508 Errore di segmentazione (core dump creato) ./Binarysearchtree 100 $((1 + $RANDOM % 100)) >> results.txt\n",
      "bash: riga 1: 24510 Errore di segmentazione (core dump creato) ./Binarysearchtree 100 $((1 + $RANDOM % 100)) >> results.txt\n",
      "bash: riga 1: 24512 Errore di segmentazione (core dump creato) ./Binarysearchtree 100 $((1 + $RANDOM % 100)) >> results.txt\n",
      "bash: riga 1: 24514 Errore di segmentazione (core dump creato) ./Binarysearchtree 100 $((1 + $RANDOM % 100)) >> results.txt\n"
     ]
    },
    {
     "ename": "CalledProcessError",
     "evalue": "Command 'b'for i in {1..50} ; do ./Binarysearchtree 100 $((1 + $RANDOM % 100)) >> results.txt ; done\\n'' returned non-zero exit status 139.",
     "output_type": "error",
     "traceback": [
      "\u001b[0;31m---------------------------------------------------------------------------\u001b[0m",
      "\u001b[0;31mCalledProcessError\u001b[0m                        Traceback (most recent call last)",
      "\u001b[0;32m<ipython-input-34-3ea04fe7ec9c>\u001b[0m in \u001b[0;36m<module>\u001b[0;34m\u001b[0m\n\u001b[0;32m----> 1\u001b[0;31m \u001b[0mget_ipython\u001b[0m\u001b[0;34m(\u001b[0m\u001b[0;34m)\u001b[0m\u001b[0;34m.\u001b[0m\u001b[0mrun_cell_magic\u001b[0m\u001b[0;34m(\u001b[0m\u001b[0;34m'bash'\u001b[0m\u001b[0;34m,\u001b[0m \u001b[0;34m''\u001b[0m\u001b[0;34m,\u001b[0m \u001b[0;34m'for i in {1..50} ; do ./Binarysearchtree 100 $((1 + $RANDOM % 100)) >> results.txt ; done\\n'\u001b[0m\u001b[0;34m)\u001b[0m\u001b[0;34m\u001b[0m\u001b[0;34m\u001b[0m\u001b[0m\n\u001b[0m",
      "\u001b[0;32m~/anaconda3/lib/python3.8/site-packages/IPython/core/interactiveshell.py\u001b[0m in \u001b[0;36mrun_cell_magic\u001b[0;34m(self, magic_name, line, cell)\u001b[0m\n\u001b[1;32m   2397\u001b[0m             \u001b[0;32mwith\u001b[0m \u001b[0mself\u001b[0m\u001b[0;34m.\u001b[0m\u001b[0mbuiltin_trap\u001b[0m\u001b[0;34m:\u001b[0m\u001b[0;34m\u001b[0m\u001b[0;34m\u001b[0m\u001b[0m\n\u001b[1;32m   2398\u001b[0m                 \u001b[0margs\u001b[0m \u001b[0;34m=\u001b[0m \u001b[0;34m(\u001b[0m\u001b[0mmagic_arg_s\u001b[0m\u001b[0;34m,\u001b[0m \u001b[0mcell\u001b[0m\u001b[0;34m)\u001b[0m\u001b[0;34m\u001b[0m\u001b[0;34m\u001b[0m\u001b[0m\n\u001b[0;32m-> 2399\u001b[0;31m                 \u001b[0mresult\u001b[0m \u001b[0;34m=\u001b[0m \u001b[0mfn\u001b[0m\u001b[0;34m(\u001b[0m\u001b[0;34m*\u001b[0m\u001b[0margs\u001b[0m\u001b[0;34m,\u001b[0m \u001b[0;34m**\u001b[0m\u001b[0mkwargs\u001b[0m\u001b[0;34m)\u001b[0m\u001b[0;34m\u001b[0m\u001b[0;34m\u001b[0m\u001b[0m\n\u001b[0m\u001b[1;32m   2400\u001b[0m             \u001b[0;32mreturn\u001b[0m \u001b[0mresult\u001b[0m\u001b[0;34m\u001b[0m\u001b[0;34m\u001b[0m\u001b[0m\n\u001b[1;32m   2401\u001b[0m \u001b[0;34m\u001b[0m\u001b[0m\n",
      "\u001b[0;32m~/anaconda3/lib/python3.8/site-packages/IPython/core/magics/script.py\u001b[0m in \u001b[0;36mnamed_script_magic\u001b[0;34m(line, cell)\u001b[0m\n\u001b[1;32m    140\u001b[0m             \u001b[0;32melse\u001b[0m\u001b[0;34m:\u001b[0m\u001b[0;34m\u001b[0m\u001b[0;34m\u001b[0m\u001b[0m\n\u001b[1;32m    141\u001b[0m                 \u001b[0mline\u001b[0m \u001b[0;34m=\u001b[0m \u001b[0mscript\u001b[0m\u001b[0;34m\u001b[0m\u001b[0;34m\u001b[0m\u001b[0m\n\u001b[0;32m--> 142\u001b[0;31m             \u001b[0;32mreturn\u001b[0m \u001b[0mself\u001b[0m\u001b[0;34m.\u001b[0m\u001b[0mshebang\u001b[0m\u001b[0;34m(\u001b[0m\u001b[0mline\u001b[0m\u001b[0;34m,\u001b[0m \u001b[0mcell\u001b[0m\u001b[0;34m)\u001b[0m\u001b[0;34m\u001b[0m\u001b[0;34m\u001b[0m\u001b[0m\n\u001b[0m\u001b[1;32m    143\u001b[0m \u001b[0;34m\u001b[0m\u001b[0m\n\u001b[1;32m    144\u001b[0m         \u001b[0;31m# write a basic docstring:\u001b[0m\u001b[0;34m\u001b[0m\u001b[0;34m\u001b[0m\u001b[0;34m\u001b[0m\u001b[0m\n",
      "\u001b[0;32m~/anaconda3/lib/python3.8/site-packages/decorator.py\u001b[0m in \u001b[0;36mfun\u001b[0;34m(*args, **kw)\u001b[0m\n\u001b[1;32m    229\u001b[0m             \u001b[0;32mif\u001b[0m \u001b[0;32mnot\u001b[0m \u001b[0mkwsyntax\u001b[0m\u001b[0;34m:\u001b[0m\u001b[0;34m\u001b[0m\u001b[0;34m\u001b[0m\u001b[0m\n\u001b[1;32m    230\u001b[0m                 \u001b[0margs\u001b[0m\u001b[0;34m,\u001b[0m \u001b[0mkw\u001b[0m \u001b[0;34m=\u001b[0m \u001b[0mfix\u001b[0m\u001b[0;34m(\u001b[0m\u001b[0margs\u001b[0m\u001b[0;34m,\u001b[0m \u001b[0mkw\u001b[0m\u001b[0;34m,\u001b[0m \u001b[0msig\u001b[0m\u001b[0;34m)\u001b[0m\u001b[0;34m\u001b[0m\u001b[0;34m\u001b[0m\u001b[0m\n\u001b[0;32m--> 231\u001b[0;31m             \u001b[0;32mreturn\u001b[0m \u001b[0mcaller\u001b[0m\u001b[0;34m(\u001b[0m\u001b[0mfunc\u001b[0m\u001b[0;34m,\u001b[0m \u001b[0;34m*\u001b[0m\u001b[0;34m(\u001b[0m\u001b[0mextras\u001b[0m \u001b[0;34m+\u001b[0m \u001b[0margs\u001b[0m\u001b[0;34m)\u001b[0m\u001b[0;34m,\u001b[0m \u001b[0;34m**\u001b[0m\u001b[0mkw\u001b[0m\u001b[0;34m)\u001b[0m\u001b[0;34m\u001b[0m\u001b[0;34m\u001b[0m\u001b[0m\n\u001b[0m\u001b[1;32m    232\u001b[0m     \u001b[0mfun\u001b[0m\u001b[0;34m.\u001b[0m\u001b[0m__name__\u001b[0m \u001b[0;34m=\u001b[0m \u001b[0mfunc\u001b[0m\u001b[0;34m.\u001b[0m\u001b[0m__name__\u001b[0m\u001b[0;34m\u001b[0m\u001b[0;34m\u001b[0m\u001b[0m\n\u001b[1;32m    233\u001b[0m     \u001b[0mfun\u001b[0m\u001b[0;34m.\u001b[0m\u001b[0m__doc__\u001b[0m \u001b[0;34m=\u001b[0m \u001b[0mfunc\u001b[0m\u001b[0;34m.\u001b[0m\u001b[0m__doc__\u001b[0m\u001b[0;34m\u001b[0m\u001b[0;34m\u001b[0m\u001b[0m\n",
      "\u001b[0;32m~/anaconda3/lib/python3.8/site-packages/IPython/core/magic.py\u001b[0m in \u001b[0;36m<lambda>\u001b[0;34m(f, *a, **k)\u001b[0m\n\u001b[1;32m    185\u001b[0m     \u001b[0;31m# but it's overkill for just that one bit of state.\u001b[0m\u001b[0;34m\u001b[0m\u001b[0;34m\u001b[0m\u001b[0;34m\u001b[0m\u001b[0m\n\u001b[1;32m    186\u001b[0m     \u001b[0;32mdef\u001b[0m \u001b[0mmagic_deco\u001b[0m\u001b[0;34m(\u001b[0m\u001b[0marg\u001b[0m\u001b[0;34m)\u001b[0m\u001b[0;34m:\u001b[0m\u001b[0;34m\u001b[0m\u001b[0;34m\u001b[0m\u001b[0m\n\u001b[0;32m--> 187\u001b[0;31m         \u001b[0mcall\u001b[0m \u001b[0;34m=\u001b[0m \u001b[0;32mlambda\u001b[0m \u001b[0mf\u001b[0m\u001b[0;34m,\u001b[0m \u001b[0;34m*\u001b[0m\u001b[0ma\u001b[0m\u001b[0;34m,\u001b[0m \u001b[0;34m**\u001b[0m\u001b[0mk\u001b[0m\u001b[0;34m:\u001b[0m \u001b[0mf\u001b[0m\u001b[0;34m(\u001b[0m\u001b[0;34m*\u001b[0m\u001b[0ma\u001b[0m\u001b[0;34m,\u001b[0m \u001b[0;34m**\u001b[0m\u001b[0mk\u001b[0m\u001b[0;34m)\u001b[0m\u001b[0;34m\u001b[0m\u001b[0;34m\u001b[0m\u001b[0m\n\u001b[0m\u001b[1;32m    188\u001b[0m \u001b[0;34m\u001b[0m\u001b[0m\n\u001b[1;32m    189\u001b[0m         \u001b[0;32mif\u001b[0m \u001b[0mcallable\u001b[0m\u001b[0;34m(\u001b[0m\u001b[0marg\u001b[0m\u001b[0;34m)\u001b[0m\u001b[0;34m:\u001b[0m\u001b[0;34m\u001b[0m\u001b[0;34m\u001b[0m\u001b[0m\n",
      "\u001b[0;32m~/anaconda3/lib/python3.8/site-packages/IPython/core/magics/script.py\u001b[0m in \u001b[0;36mshebang\u001b[0;34m(self, line, cell)\u001b[0m\n\u001b[1;32m    243\u001b[0m             \u001b[0msys\u001b[0m\u001b[0;34m.\u001b[0m\u001b[0mstderr\u001b[0m\u001b[0;34m.\u001b[0m\u001b[0mflush\u001b[0m\u001b[0;34m(\u001b[0m\u001b[0;34m)\u001b[0m\u001b[0;34m\u001b[0m\u001b[0;34m\u001b[0m\u001b[0m\n\u001b[1;32m    244\u001b[0m         \u001b[0;32mif\u001b[0m \u001b[0margs\u001b[0m\u001b[0;34m.\u001b[0m\u001b[0mraise_error\u001b[0m \u001b[0;32mand\u001b[0m \u001b[0mp\u001b[0m\u001b[0;34m.\u001b[0m\u001b[0mreturncode\u001b[0m\u001b[0;34m!=\u001b[0m\u001b[0;36m0\u001b[0m\u001b[0;34m:\u001b[0m\u001b[0;34m\u001b[0m\u001b[0;34m\u001b[0m\u001b[0m\n\u001b[0;32m--> 245\u001b[0;31m             \u001b[0;32mraise\u001b[0m \u001b[0mCalledProcessError\u001b[0m\u001b[0;34m(\u001b[0m\u001b[0mp\u001b[0m\u001b[0;34m.\u001b[0m\u001b[0mreturncode\u001b[0m\u001b[0;34m,\u001b[0m \u001b[0mcell\u001b[0m\u001b[0;34m,\u001b[0m \u001b[0moutput\u001b[0m\u001b[0;34m=\u001b[0m\u001b[0mout\u001b[0m\u001b[0;34m,\u001b[0m \u001b[0mstderr\u001b[0m\u001b[0;34m=\u001b[0m\u001b[0merr\u001b[0m\u001b[0;34m)\u001b[0m\u001b[0;34m\u001b[0m\u001b[0;34m\u001b[0m\u001b[0m\n\u001b[0m\u001b[1;32m    246\u001b[0m \u001b[0;34m\u001b[0m\u001b[0m\n\u001b[1;32m    247\u001b[0m     \u001b[0;32mdef\u001b[0m \u001b[0m_run_script\u001b[0m\u001b[0;34m(\u001b[0m\u001b[0mself\u001b[0m\u001b[0;34m,\u001b[0m \u001b[0mp\u001b[0m\u001b[0;34m,\u001b[0m \u001b[0mcell\u001b[0m\u001b[0;34m,\u001b[0m \u001b[0mto_close\u001b[0m\u001b[0;34m)\u001b[0m\u001b[0;34m:\u001b[0m\u001b[0;34m\u001b[0m\u001b[0;34m\u001b[0m\u001b[0m\n",
      "\u001b[0;31mCalledProcessError\u001b[0m: Command 'b'for i in {1..50} ; do ./Binarysearchtree 100 $((1 + $RANDOM % 100)) >> results.txt ; done\\n'' returned non-zero exit status 139."
     ]
    }
   ],
   "source": [
    "%%bash\n",
    "for i in {1..50} ; do ./Binarysearchtree 100 $((1 + $RANDOM % 100)) >> results.txt ; done"
   ]
  },
  {
   "cell_type": "code",
   "execution_count": null,
   "metadata": {},
   "outputs": [],
   "source": []
  },
  {
   "cell_type": "code",
   "execution_count": 7,
   "metadata": {},
   "outputs": [],
   "source": [
    "with open('results.txt') as results:\n",
    "    txt_results = [line.strip() for line in results.readlines()]"
   ]
  },
  {
   "cell_type": "code",
   "execution_count": 16,
   "metadata": {},
   "outputs": [
    {
     "data": {
      "text/plain": [
       "<matplotlib.collections.PolyCollection at 0x7f74e6834eb0>"
      ]
     },
     "execution_count": 16,
     "metadata": {},
     "output_type": "execute_result"
    },
    {
     "data": {
      "image/png": "[encoded data removed]",
      "text/plain": [
       "<Figure size 432x288 with 1 Axes>"
      ]
     },
     "metadata": {
      "needs_background": "light"
     },
     "output_type": "display_data"
    }
   ],
   "source": [
    "from matplotlib import pyplot as plt\n",
    "import numpy as np\n",
    "\n",
    "#some example data\n",
    "x = np.linspace(0.1, 9.9, 20)\n",
    "y = 3.0 * x\n",
    "#some confidence interval\n",
    "ci = 1.96 * np.std(y)/np.sqrt(len(x))\n",
    "\n",
    "fig, ax = plt.subplots()\n",
    "ax.plot(x,y)\n",
    "ax.fill_between(x, (y-ci), (y+ci), color='b', alpha=.1)"
   ]
  }
 ],
 "metadata": {
  "interpreter": {
   "hash": "ae70fb1c5e1c444a77a2b769c0314ac64b210919d960032b711f2748408261b9"
  },
  "kernelspec": {
   "display_name": "Python 3.8.8 64-bit ('base': conda)",
   "language": "python",
   "name": "python3"
  },
  "language_info": {
   "codemirror_mode": {
    "name": "ipython",
    "version": 3
   },
   "file_extension": ".py",
   "mimetype": "text/x-python",
   "name": "python",
   "nbconvert_exporter": "python",
   "pygments_lexer": "ipython3",
   "version": "3.8.8"
  },
  "orig_nbformat": 4
 },
 "nbformat": 4,
 "nbformat_minor": 2
}
