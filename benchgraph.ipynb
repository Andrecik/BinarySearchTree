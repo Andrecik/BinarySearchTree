{
 "cells": [
  {
   "cell_type": "code",
   "execution_count": 2,
   "metadata": {},
   "outputs": [],
   "source": [
    "number_of_nodes = 3\n",
    "number_of_runs = 2\n"
   ]
  },
  {
   "cell_type": "code",
   "execution_count": 3,
   "metadata": {},
   "outputs": [
    {
     "name": "stdout",
     "output_type": "stream",
     "text": [
      "removed directory 'bin'\n",
      "'obj/bst.o' rimosso\n",
      "'obj/main.o' rimosso\n",
      "removed directory 'obj'\n",
      "mkdir -p obj\n",
      "g++ -Wall -Wextra -std=c++17 -I/src/include -c src/bst.cc -o obj/bst.o\n",
      "g++ -Wall -Wextra -std=c++17 -I/src/include -c src/main.cc -o obj/main.o\n",
      "mkdir -p bin\n",
      "g++  obj/bst.o obj/main.o  -o Binarysearchtree\n"
     ]
    }
   ],
   "source": [
    "%%bash\n",
    "\n",
    "make\n",
    "for i in {1..2} ; do ./Binarysearchtree 3 $((1 + $RANDOM % 100)) >> results.txt ; done\n"
   ]
  },
  {
   "cell_type": "code",
   "execution_count": 4,
   "metadata": {},
   "outputs": [],
   "source": [
    "with open('results.txt') as results:\n",
    "    txt_results = [line.strip() for line in results.readlines()]"
   ]
  },
  {
   "cell_type": "code",
   "execution_count": 5,
   "metadata": {},
   "outputs": [],
   "source": [
    "run_sep = \"********************************************\"\n",
    "runs = [[] for _ in range(number_of_runs)]\n",
    "run = -1\n",
    "for i in txt_results:\n",
    "    if i == run_sep:\n",
    "        run += 1\n",
    "    runs[run].append(i)\n"
   ]
  },
  {
   "cell_type": "code",
   "execution_count": 6,
   "metadata": {},
   "outputs": [],
   "source": [
    "import re\n",
    "\n",
    "re_times = re.compile('[0-9][0-9]+.ns')\n",
    "times_list = [[] for _ in range(number_of_runs)]\n",
    "for count,run in enumerate(runs):\n",
    "    for i in run:\n",
    "        found = re.match(re_times, str(i))\n",
    "        if found is not None:\n",
    "            times_list[count].append(found.group().split()[0])"
   ]
  },
  {
   "cell_type": "code",
   "execution_count": 7,
   "metadata": {},
   "outputs": [],
   "source": [
    "insert_BST = [[] for _ in range(number_of_runs)]\n",
    "insert_map = [[] for _ in range(number_of_runs)]\n",
    "copy = [[] for _ in range(number_of_runs)]\n",
    "find_BST = [[] for _ in range(number_of_runs)]\n",
    "find_map = [[] for _ in range(number_of_runs)]\n",
    "modify_BST = [[] for _ in range(number_of_runs)]\n",
    "modify_map = [[] for _ in range(number_of_runs)]\n",
    "erase_BST = [[] for _ in range(number_of_runs)]\n",
    "erase_map = [[] for _ in range(number_of_runs)]\n",
    "\n",
    "\n",
    "for c,v in enumerate(times_list):\n",
    "    insert_BST[c].append(v[0: number_of_nodes])\n",
    "    insert_map[c].append(v[number_of_nodes: number_of_nodes*2])\n",
    "    copy[c].append(v[number_of_nodes*2])\n",
    "    copy[c].append(v[number_of_nodes*2+1])\n",
    "    find_BST[c].append(v[number_of_nodes*2+2: number_of_nodes*3+2])\n",
    "    find_map[c].append(v[number_of_nodes*3+2: number_of_nodes*4+2])\n",
    "    modify_BST[c].append(v[number_of_nodes*4+2: number_of_nodes*5+2])\n",
    "    modify_map[c].append(v[number_of_nodes*5+2: number_of_nodes*6+2])\n",
    "    erase_BST[c].append(v[number_of_nodes*6+2: number_of_nodes*6+22])\n",
    "    erase_map[c].append(v[number_of_nodes*6+22: number_of_nodes*6+42])"
   ]
  },
  {
   "cell_type": "code",
   "execution_count": 314,
   "metadata": {},
   "outputs": [
    {
     "data": {
      "text/plain": [
       "[('2029', '1638'), ('744', '819')]"
      ]
     },
     "execution_count": 314,
     "metadata": {},
     "output_type": "execute_result"
    }
   ],
   "source": [
    "import pandas as pd \n",
    "import numpy as np\n",
    "copy_final = [i for i in zip(*copy)]\n",
    "copy_final"
   ]
  },
  {
   "cell_type": "code",
   "execution_count": null,
   "metadata": {},
   "outputs": [],
   "source": [
    "inse"
   ]
  },
  {
   "cell_type": "code",
   "execution_count": null,
   "metadata": {},
   "outputs": [],
   "source": [
    "import pandas as pd\n",
    "\n",
    "Final_results = pd.DataFrame{}"
   ]
  },
  {
   "cell_type": "code",
   "execution_count": 1,
   "metadata": {},
   "outputs": [],
   "source": [
    "%%bash\n",
    "rm results.txt"
   ]
  },
  {
   "cell_type": "code",
   "execution_count": 16,
   "metadata": {},
   "outputs": [
    {
     "data": {
      "text/plain": [
       "<matplotlib.collections.PolyCollection at 0x7f74e6834eb0>"
      ]
     },
     "execution_count": 16,
     "metadata": {},
     "output_type": "execute_result"
    },
    {
     "data": {
      "image/png": "[encoded data removed]",
      "text/plain": [
       "<Figure size 432x288 with 1 Axes>"
      ]
     },
     "metadata": {
      "needs_background": "light"
     },
     "output_type": "display_data"
    }
   ],
   "source": [
    "from matplotlib import pyplot as plt\n",
    "import numpy as np\n",
    "\n",
    "#some example data\n",
    "x = np.linspace(0.1, 9.9, 20)\n",
    "y = 3.0 * x\n",
    "#some confidence interval\n",
    "ci = 1.96 * np.std(y)/np.sqrt(len(x))\n",
    "\n",
    "fig, ax = plt.subplots()\n",
    "ax.plot(x,y)\n",
    "ax.fill_between(x, (y-ci), (y+ci), color='b', alpha=.1)"
   ]
  }
 ],
 "metadata": {
  "interpreter": {
   "hash": "ae70fb1c5e1c444a77a2b769c0314ac64b210919d960032b711f2748408261b9"
  },
  "kernelspec": {
   "display_name": "Python 3.8.8 64-bit ('base': conda)",
   "language": "python",
   "name": "python3"
  },
  "language_info": {
   "codemirror_mode": {
    "name": "ipython",
    "version": 3
   },
   "file_extension": ".py",
   "mimetype": "text/x-python",
   "name": "python",
   "nbconvert_exporter": "python",
   "pygments_lexer": "ipython3",
   "version": "3.8.8"
  },
  "orig_nbformat": 4
 },
 "nbformat": 4,
 "nbformat_minor": 2
}
